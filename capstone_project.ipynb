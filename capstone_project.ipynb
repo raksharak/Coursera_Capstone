{
 "cells": [
  {
   "cell_type": "markdown",
   "metadata": {},
   "source": [
    "# Capstone Project - Car accident severity (Week 1)"
   ]
  },
  {
   "cell_type": "markdown",
   "metadata": {},
   "source": [
    "## Table of contents\n",
    "* [Introduction: Business Problem](#introduction)\n",
    "* [Data](#data)"
   ]
  },
  {
   "cell_type": "markdown",
   "metadata": {},
   "source": [
    "\n",
    "## Introduction: Business Problem <a name=\"introduction\"></a>"
   ]
  },
  {
   "cell_type": "markdown",
   "metadata": {},
   "source": [
    "In this project we will try to find Car accident severity. Specifically, this report will be targeted to the **people planing to travel or travelling**.\n",
    "\n",
    "Since we know the weather condition can predict the severity of the accident which may cause due to bad whether so that **people traveling will be causious or the people planning to travel may reschedule based on the severity**. which will help the people to plan safe travel rather than unexpected glitch.\n",
    "\n",
    "We will use our data science powers to predict accident severity, alerting the onces who are traveling and helping the onces to plan thier safe travel based on weather condition."
   ]
  },
  {
   "cell_type": "markdown",
   "metadata": {},
   "source": [
    "## Data <a name=\"data\"></a>"
   ]
  },
  {
   "cell_type": "markdown",
   "metadata": {},
   "source": [
    "Based on definition of our problem, factors that will influence our decission are:\n",
    "* weather\n",
    "* road condition\n",
    "* light condition\n",
    "\n",
    "We decided to consider categorical data to create the model.\n",
    "\n",
    "Following data sources will be needed to extract/generate the required information:\n",
    "* will be using the given data and explore for the fullness.\n",
    "* and feature extraction to see what feature is effecting the severity"
   ]
  },
  {
   "cell_type": "code",
   "execution_count": null,
   "metadata": {},
   "outputs": [],
   "source": []
  }
 ],
 "metadata": {
  "kernelspec": {
   "display_name": "Python 3",
   "language": "python",
   "name": "python3"
  },
  "language_info": {
   "codemirror_mode": {
    "name": "ipython",
    "version": 3
   },
   "file_extension": ".py",
   "mimetype": "text/x-python",
   "name": "python",
   "nbconvert_exporter": "python",
   "pygments_lexer": "ipython3",
   "version": "3.7.6"
  }
 },
 "nbformat": 4,
 "nbformat_minor": 4
}
